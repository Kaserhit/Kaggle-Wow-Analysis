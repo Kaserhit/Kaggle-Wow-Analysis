{
 "cells": [
  {
   "cell_type": "markdown",
   "id": "692e8a41",
   "metadata": {
    "id": "XtpMTyuqpoIw",
    "papermill": {
     "duration": 0.006694,
     "end_time": "2024-06-27T15:52:34.648406",
     "exception": false,
     "start_time": "2024-06-27T15:52:34.641712",
     "status": "completed"
    },
    "tags": []
   },
   "source": [
    "# Laboratory : Creating a Dataset and Analyzing a Kaggle Dataset\n",
    "# Research Project on Using Kaggle Datasets with Pandas for Data Analysis\n",
    "\n",
    "**Objective**\n",
    "Create a dataset using Pandas, select a predictor variable and all feature variables, and conduct a preliminary data analysis.\n",
    "\n",
    "**Instructions**\n",
    "\n",
    "1. **Download the Dataset**\n",
    "\n",
    "Choose a dataset available on Kaggle that interests you for your analysis.\n",
    "\n",
    "Download the dataset in CSV format from Kaggle.\n",
    "\n",
    "Provide the source and an explanation of the selected dataset.\n",
    "\n",
    "\n",
    "2. **Load the Dataset**\n",
    "\n",
    "Use Pandas to load the downloaded CSV file into a DataFrame.\n",
    "\n",
    "Ensure that the Pandas library is imported into your working environment.\n",
    "\n",
    "\n",
    "3. **Data Exploration**\n",
    "\n",
    "Use Pandas data exploration methods to gather information about the DataFrame, such as .info(), .describe(), etc.\n",
    "\n",
    "Identify if there are any null values in the DataFrame and handle these values appropriately.\n",
    "\n",
    "\n",
    "4. **Data Visualization** \n",
    "\n",
    "Create at least two visualizations that help understand the data of the selected dataset.\n",
    "\n",
    "Use appropriate charts for the data types involved (e.g., histograms, scatter plots, etc.).\n",
    "\n",
    "\n",
    "5. **Preliminary Analysis**\n",
    "\n",
    "Based on your domain knowledge and the results from data exploration and visualization, formulate a hypothesis about the possible relationships between the variables in the dataset.\n",
    "Formulate at least one research question that you could attempt to answer using this dataset.\n",
    "\n",
    "Choose a variable as the predictor (target) and the necessary variables as features (predictors).\n",
    "\n",
    "Explain why you selected each variable and how they might be related."
   ]
  },
  {
   "cell_type": "markdown",
   "id": "7d6bd645",
   "metadata": {
    "papermill": {
     "duration": 0.005965,
     "end_time": "2024-06-27T15:52:34.660915",
     "exception": false,
     "start_time": "2024-06-27T15:52:34.654950",
     "status": "completed"
    },
    "tags": []
   },
   "source": [
    "---"
   ]
  },
  {
   "cell_type": "markdown",
   "id": "4cb28281",
   "metadata": {
    "id": "AxVviNUDqXR_",
    "papermill": {
     "duration": 0.005891,
     "end_time": "2024-06-27T15:52:34.672966",
     "exception": false,
     "start_time": "2024-06-27T15:52:34.667075",
     "status": "completed"
    },
    "tags": []
   },
   "source": [
    "# **Development of Point 1** \n",
    "Choose a dataset available on Kaggle that you find interesting for your analysis.\n",
    "\n",
    "Download the dataset in CSV format from Kaggle.\n",
    "Provide the source and an explanation of the selected dataset."
   ]
  },
  {
   "cell_type": "markdown",
   "id": "69e773ef",
   "metadata": {
    "id": "UbcuJhLsqj0s",
    "papermill": {
     "duration": 0.005856,
     "end_time": "2024-06-27T15:52:34.685072",
     "exception": false,
     "start_time": "2024-06-27T15:52:34.679216",
     "status": "completed"
    },
    "tags": []
   },
   "source": [
    "\n",
    "**World of Warcraft Avatar History - wowah_data.csv**\n",
    "\n",
    "[Dataset Source](https://www.kaggle.com/datasets/mylesoneill/warcraft-avatar-history?select=wowah_data.csv)\n",
    "\n",
    "\n",
    "**Dataset Explanation**: The Warcraft Avatar History dataset is a sampling of players from the game World of Warcraft. According to the creator, Myles O'Neill, this sample includes information about characters that players had on servers in the year 2008. Specifically, it focuses on a sample from the \"Horde\" faction server population. The dataset allows for analysis of player preferences, such as popular zones with high player traffic, preferred races, and favored classes that players enjoyed playing."
   ]
  },
  {
   "cell_type": "markdown",
   "id": "4ee5bfce",
   "metadata": {
    "papermill": {
     "duration": 0.005952,
     "end_time": "2024-06-27T15:52:34.697106",
     "exception": false,
     "start_time": "2024-06-27T15:52:34.691154",
     "status": "completed"
    },
    "tags": []
   },
   "source": [
    "---"
   ]
  },
  {
   "cell_type": "markdown",
   "id": "2897fafa",
   "metadata": {
    "id": "SzAHMmZHsn-C",
    "papermill": {
     "duration": 0.005846,
     "end_time": "2024-06-27T15:52:34.709105",
     "exception": false,
     "start_time": "2024-06-27T15:52:34.703259",
     "status": "completed"
    },
    "tags": []
   },
   "source": [
    "# **Development of Point 2**\n",
    "Use Pandas to load the downloaded CSV file into a DataFrame.\n",
    "\n",
    "Make sure you have imported the Pandas library in your working environment."
   ]
  },
  {
   "cell_type": "code",
   "execution_count": 1,
   "id": "03aae616",
   "metadata": {
    "execution": {
     "iopub.execute_input": "2024-06-27T15:52:34.723359Z",
     "iopub.status.busy": "2024-06-27T15:52:34.722900Z",
     "iopub.status.idle": "2024-06-27T15:52:53.768122Z",
     "shell.execute_reply": "2024-06-27T15:52:53.766991Z"
    },
    "id": "9-omWaM0st7u",
    "papermill": {
     "duration": 19.055379,
     "end_time": "2024-06-27T15:52:53.770768",
     "exception": false,
     "start_time": "2024-06-27T15:52:34.715389",
     "status": "completed"
    },
    "tags": []
   },
   "outputs": [],
   "source": [
    "import pandas as pd\n",
    "\n",
    "df = pd.read_csv('/kaggle/input/warcraft-avatar-history/wowah_data.csv')"
   ]
  },
  {
   "cell_type": "markdown",
   "id": "21352b22",
   "metadata": {
    "papermill": {
     "duration": 0.006019,
     "end_time": "2024-06-27T15:52:53.783533",
     "exception": false,
     "start_time": "2024-06-27T15:52:53.777514",
     "status": "completed"
    },
    "tags": []
   },
   "source": [
    "---"
   ]
  },
  {
   "cell_type": "markdown",
   "id": "7a83c0dc",
   "metadata": {
    "id": "Y8AZTsR0tt8t",
    "papermill": {
     "duration": 0.00592,
     "end_time": "2024-06-27T15:52:53.795662",
     "exception": false,
     "start_time": "2024-06-27T15:52:53.789742",
     "status": "completed"
    },
    "tags": []
   },
   "source": [
    "# **Development of Point 3**\n",
    "Use Pandas data exploration methods to obtain information about the DataFrame, such as .info(), .describe(), etc.\n",
    "\n",
    "Identify if there are null values in the DataFrame and handle these values appropriately."
   ]
  },
  {
   "cell_type": "code",
   "execution_count": 2,
   "id": "aa8b1019",
   "metadata": {
    "execution": {
     "iopub.execute_input": "2024-06-27T15:52:53.809843Z",
     "iopub.status.busy": "2024-06-27T15:52:53.809430Z",
     "iopub.status.idle": "2024-06-27T15:52:53.843126Z",
     "shell.execute_reply": "2024-06-27T15:52:53.841982Z"
    },
    "id": "OKm4VMmZvAU5",
    "outputId": "391b248c-f7c6-4076-d661-692883ae44eb",
    "papermill": {
     "duration": 0.043728,
     "end_time": "2024-06-27T15:52:53.845610",
     "exception": false,
     "start_time": "2024-06-27T15:52:53.801882",
     "status": "completed"
    },
    "tags": []
   },
   "outputs": [
    {
     "data": {
      "text/html": [
       "<div>\n",
       "<style scoped>\n",
       "    .dataframe tbody tr th:only-of-type {\n",
       "        vertical-align: middle;\n",
       "    }\n",
       "\n",
       "    .dataframe tbody tr th {\n",
       "        vertical-align: top;\n",
       "    }\n",
       "\n",
       "    .dataframe thead th {\n",
       "        text-align: right;\n",
       "    }\n",
       "</style>\n",
       "<table border=\"1\" class=\"dataframe\">\n",
       "  <thead>\n",
       "    <tr style=\"text-align: right;\">\n",
       "      <th></th>\n",
       "      <th>char</th>\n",
       "      <th>level</th>\n",
       "      <th>race</th>\n",
       "      <th>charclass</th>\n",
       "      <th>zone</th>\n",
       "      <th>guild</th>\n",
       "      <th>timestamp</th>\n",
       "    </tr>\n",
       "  </thead>\n",
       "  <tbody>\n",
       "    <tr>\n",
       "      <th>0</th>\n",
       "      <td>59425</td>\n",
       "      <td>1</td>\n",
       "      <td>Orc</td>\n",
       "      <td>Rogue</td>\n",
       "      <td>Orgrimmar</td>\n",
       "      <td>165</td>\n",
       "      <td>01/01/08 00:02:04</td>\n",
       "    </tr>\n",
       "    <tr>\n",
       "      <th>1</th>\n",
       "      <td>65494</td>\n",
       "      <td>9</td>\n",
       "      <td>Orc</td>\n",
       "      <td>Hunter</td>\n",
       "      <td>Durotar</td>\n",
       "      <td>-1</td>\n",
       "      <td>01/01/08 00:02:04</td>\n",
       "    </tr>\n",
       "    <tr>\n",
       "      <th>2</th>\n",
       "      <td>65325</td>\n",
       "      <td>14</td>\n",
       "      <td>Orc</td>\n",
       "      <td>Warrior</td>\n",
       "      <td>Ghostlands</td>\n",
       "      <td>-1</td>\n",
       "      <td>01/01/08 00:02:04</td>\n",
       "    </tr>\n",
       "    <tr>\n",
       "      <th>3</th>\n",
       "      <td>65490</td>\n",
       "      <td>18</td>\n",
       "      <td>Orc</td>\n",
       "      <td>Hunter</td>\n",
       "      <td>Ghostlands</td>\n",
       "      <td>-1</td>\n",
       "      <td>01/01/08 00:02:04</td>\n",
       "    </tr>\n",
       "    <tr>\n",
       "      <th>4</th>\n",
       "      <td>2288</td>\n",
       "      <td>60</td>\n",
       "      <td>Orc</td>\n",
       "      <td>Hunter</td>\n",
       "      <td>Hellfire Peninsula</td>\n",
       "      <td>-1</td>\n",
       "      <td>01/01/08 00:02:09</td>\n",
       "    </tr>\n",
       "    <tr>\n",
       "      <th>...</th>\n",
       "      <td>...</td>\n",
       "      <td>...</td>\n",
       "      <td>...</td>\n",
       "      <td>...</td>\n",
       "      <td>...</td>\n",
       "      <td>...</td>\n",
       "      <td>...</td>\n",
       "    </tr>\n",
       "    <tr>\n",
       "      <th>10826729</th>\n",
       "      <td>86766</td>\n",
       "      <td>80</td>\n",
       "      <td>Blood Elf</td>\n",
       "      <td>Death Knight</td>\n",
       "      <td>Halls of Lightning</td>\n",
       "      <td>101</td>\n",
       "      <td>12/31/08 23:50:18</td>\n",
       "    </tr>\n",
       "    <tr>\n",
       "      <th>10826730</th>\n",
       "      <td>86497</td>\n",
       "      <td>77</td>\n",
       "      <td>Blood Elf</td>\n",
       "      <td>Death Knight</td>\n",
       "      <td>The Storm Peaks</td>\n",
       "      <td>358</td>\n",
       "      <td>12/31/08 23:50:18</td>\n",
       "    </tr>\n",
       "    <tr>\n",
       "      <th>10826731</th>\n",
       "      <td>34893</td>\n",
       "      <td>80</td>\n",
       "      <td>Blood Elf</td>\n",
       "      <td>Death Knight</td>\n",
       "      <td>The Storm Peaks</td>\n",
       "      <td>189</td>\n",
       "      <td>12/31/08 23:50:18</td>\n",
       "    </tr>\n",
       "    <tr>\n",
       "      <th>10826732</th>\n",
       "      <td>86881</td>\n",
       "      <td>80</td>\n",
       "      <td>Blood Elf</td>\n",
       "      <td>Death Knight</td>\n",
       "      <td>Dragonblight</td>\n",
       "      <td>478</td>\n",
       "      <td>12/31/08 23:50:18</td>\n",
       "    </tr>\n",
       "    <tr>\n",
       "      <th>10826733</th>\n",
       "      <td>86457</td>\n",
       "      <td>80</td>\n",
       "      <td>Blood Elf</td>\n",
       "      <td>Death Knight</td>\n",
       "      <td>Dragonblight</td>\n",
       "      <td>204</td>\n",
       "      <td>12/31/08 23:50:18</td>\n",
       "    </tr>\n",
       "  </tbody>\n",
       "</table>\n",
       "<p>10826734 rows × 7 columns</p>\n",
       "</div>"
      ],
      "text/plain": [
       "           char   level       race     charclass                zone   guild  \\\n",
       "0         59425       1        Orc         Rogue           Orgrimmar     165   \n",
       "1         65494       9        Orc        Hunter             Durotar      -1   \n",
       "2         65325      14        Orc       Warrior          Ghostlands      -1   \n",
       "3         65490      18        Orc        Hunter          Ghostlands      -1   \n",
       "4          2288      60        Orc        Hunter  Hellfire Peninsula      -1   \n",
       "...         ...     ...        ...           ...                 ...     ...   \n",
       "10826729  86766      80  Blood Elf  Death Knight  Halls of Lightning     101   \n",
       "10826730  86497      77  Blood Elf  Death Knight     The Storm Peaks     358   \n",
       "10826731  34893      80  Blood Elf  Death Knight     The Storm Peaks     189   \n",
       "10826732  86881      80  Blood Elf  Death Knight        Dragonblight     478   \n",
       "10826733  86457      80  Blood Elf  Death Knight        Dragonblight     204   \n",
       "\n",
       "                  timestamp  \n",
       "0         01/01/08 00:02:04  \n",
       "1         01/01/08 00:02:04  \n",
       "2         01/01/08 00:02:04  \n",
       "3         01/01/08 00:02:04  \n",
       "4         01/01/08 00:02:09  \n",
       "...                     ...  \n",
       "10826729  12/31/08 23:50:18  \n",
       "10826730  12/31/08 23:50:18  \n",
       "10826731  12/31/08 23:50:18  \n",
       "10826732  12/31/08 23:50:18  \n",
       "10826733  12/31/08 23:50:18  \n",
       "\n",
       "[10826734 rows x 7 columns]"
      ]
     },
     "execution_count": 2,
     "metadata": {},
     "output_type": "execute_result"
    }
   ],
   "source": [
    "#Dataset\n",
    "pd.set_option('display.max_columns', None) # Display all columns\n",
    "df"
   ]
  },
  {
   "cell_type": "code",
   "execution_count": 3,
   "id": "328c3033",
   "metadata": {
    "execution": {
     "iopub.execute_input": "2024-06-27T15:52:53.860769Z",
     "iopub.status.busy": "2024-06-27T15:52:53.860394Z",
     "iopub.status.idle": "2024-06-27T15:52:53.889166Z",
     "shell.execute_reply": "2024-06-27T15:52:53.887992Z"
    },
    "id": "pry91Y0bt8C-",
    "outputId": "9dd84577-3ec3-4dfa-ff7c-a4d213b475ad",
    "papermill": {
     "duration": 0.039434,
     "end_time": "2024-06-27T15:52:53.891928",
     "exception": false,
     "start_time": "2024-06-27T15:52:53.852494",
     "status": "completed"
    },
    "tags": []
   },
   "outputs": [
    {
     "name": "stdout",
     "output_type": "stream",
     "text": [
      "<class 'pandas.core.frame.DataFrame'>\n",
      "RangeIndex: 10826734 entries, 0 to 10826733\n",
      "Data columns (total 7 columns):\n",
      " #   Column      Dtype \n",
      "---  ------      ----- \n",
      " 0   char        int64 \n",
      " 1    level      int64 \n",
      " 2    race       object\n",
      " 3    charclass  object\n",
      " 4    zone       object\n",
      " 5    guild      int64 \n",
      " 6    timestamp  object\n",
      "dtypes: int64(3), object(4)\n",
      "memory usage: 578.2+ MB\n"
     ]
    }
   ],
   "source": [
    "# DataFrame information\n",
    "df.info()"
   ]
  },
  {
   "cell_type": "code",
   "execution_count": 4,
   "id": "0ec3eabb",
   "metadata": {
    "execution": {
     "iopub.execute_input": "2024-06-27T15:52:53.907321Z",
     "iopub.status.busy": "2024-06-27T15:52:53.906904Z",
     "iopub.status.idle": "2024-06-27T15:52:54.825552Z",
     "shell.execute_reply": "2024-06-27T15:52:54.824322Z"
    },
    "id": "_BnZ2YPNt-Fh",
    "outputId": "7871e238-31ff-436e-ecd4-b3827609209a",
    "papermill": {
     "duration": 0.929226,
     "end_time": "2024-06-27T15:52:54.827979",
     "exception": false,
     "start_time": "2024-06-27T15:52:53.898753",
     "status": "completed"
    },
    "tags": []
   },
   "outputs": [
    {
     "data": {
      "text/html": [
       "<div>\n",
       "<style scoped>\n",
       "    .dataframe tbody tr th:only-of-type {\n",
       "        vertical-align: middle;\n",
       "    }\n",
       "\n",
       "    .dataframe tbody tr th {\n",
       "        vertical-align: top;\n",
       "    }\n",
       "\n",
       "    .dataframe thead th {\n",
       "        text-align: right;\n",
       "    }\n",
       "</style>\n",
       "<table border=\"1\" class=\"dataframe\">\n",
       "  <thead>\n",
       "    <tr style=\"text-align: right;\">\n",
       "      <th></th>\n",
       "      <th>char</th>\n",
       "      <th>level</th>\n",
       "      <th>guild</th>\n",
       "    </tr>\n",
       "  </thead>\n",
       "  <tbody>\n",
       "    <tr>\n",
       "      <th>count</th>\n",
       "      <td>1.082673e+07</td>\n",
       "      <td>1.082673e+07</td>\n",
       "      <td>1.082673e+07</td>\n",
       "    </tr>\n",
       "    <tr>\n",
       "      <th>mean</th>\n",
       "      <td>4.374145e+04</td>\n",
       "      <td>6.130605e+01</td>\n",
       "      <td>1.370670e+02</td>\n",
       "    </tr>\n",
       "    <tr>\n",
       "      <th>std</th>\n",
       "      <td>2.544662e+04</td>\n",
       "      <td>1.818301e+01</td>\n",
       "      <td>1.133178e+02</td>\n",
       "    </tr>\n",
       "    <tr>\n",
       "      <th>min</th>\n",
       "      <td>2.000000e+00</td>\n",
       "      <td>1.000000e+00</td>\n",
       "      <td>-1.000000e+00</td>\n",
       "    </tr>\n",
       "    <tr>\n",
       "      <th>25%</th>\n",
       "      <td>2.247600e+04</td>\n",
       "      <td>6.200000e+01</td>\n",
       "      <td>3.500000e+01</td>\n",
       "    </tr>\n",
       "    <tr>\n",
       "      <th>50%</th>\n",
       "      <td>4.616900e+04</td>\n",
       "      <td>7.000000e+01</td>\n",
       "      <td>1.030000e+02</td>\n",
       "    </tr>\n",
       "    <tr>\n",
       "      <th>75%</th>\n",
       "      <td>6.643600e+04</td>\n",
       "      <td>7.000000e+01</td>\n",
       "      <td>2.040000e+02</td>\n",
       "    </tr>\n",
       "    <tr>\n",
       "      <th>max</th>\n",
       "      <td>9.058000e+04</td>\n",
       "      <td>8.000000e+01</td>\n",
       "      <td>5.080000e+02</td>\n",
       "    </tr>\n",
       "  </tbody>\n",
       "</table>\n",
       "</div>"
      ],
      "text/plain": [
       "               char         level         guild\n",
       "count  1.082673e+07  1.082673e+07  1.082673e+07\n",
       "mean   4.374145e+04  6.130605e+01  1.370670e+02\n",
       "std    2.544662e+04  1.818301e+01  1.133178e+02\n",
       "min    2.000000e+00  1.000000e+00 -1.000000e+00\n",
       "25%    2.247600e+04  6.200000e+01  3.500000e+01\n",
       "50%    4.616900e+04  7.000000e+01  1.030000e+02\n",
       "75%    6.643600e+04  7.000000e+01  2.040000e+02\n",
       "max    9.058000e+04  8.000000e+01  5.080000e+02"
      ]
     },
     "execution_count": 4,
     "metadata": {},
     "output_type": "execute_result"
    }
   ],
   "source": [
    "# Statistical calculations of the DataFrame\n",
    "df.describe()"
   ]
  },
  {
   "cell_type": "code",
   "execution_count": 5,
   "id": "d767ab99",
   "metadata": {
    "execution": {
     "iopub.execute_input": "2024-06-27T15:52:54.843634Z",
     "iopub.status.busy": "2024-06-27T15:52:54.843239Z",
     "iopub.status.idle": "2024-06-27T15:52:54.849986Z",
     "shell.execute_reply": "2024-06-27T15:52:54.849036Z"
    },
    "id": "A7jn9y7ouoOB",
    "outputId": "ae01452d-d7ba-4f89-8342-f5a998a049fa",
    "papermill": {
     "duration": 0.017264,
     "end_time": "2024-06-27T15:52:54.852388",
     "exception": false,
     "start_time": "2024-06-27T15:52:54.835124",
     "status": "completed"
    },
    "tags": []
   },
   "outputs": [
    {
     "data": {
      "text/plain": [
       "Index(['char', ' level', ' race', ' charclass', ' zone', ' guild',\n",
       "       ' timestamp'],\n",
       "      dtype='object')"
      ]
     },
     "execution_count": 5,
     "metadata": {},
     "output_type": "execute_result"
    }
   ],
   "source": [
    "#Columns of the dataframe\n",
    "df.columns"
   ]
  },
  {
   "cell_type": "code",
   "execution_count": 6,
   "id": "9e3539e4",
   "metadata": {
    "execution": {
     "iopub.execute_input": "2024-06-27T15:52:54.868473Z",
     "iopub.status.busy": "2024-06-27T15:52:54.868089Z",
     "iopub.status.idle": "2024-06-27T15:52:54.880934Z",
     "shell.execute_reply": "2024-06-27T15:52:54.879908Z"
    },
    "id": "QyzltOvZtrn_",
    "outputId": "f3c00211-9798-46cd-e4b3-924114e78ec0",
    "papermill": {
     "duration": 0.023506,
     "end_time": "2024-06-27T15:52:54.883160",
     "exception": false,
     "start_time": "2024-06-27T15:52:54.859654",
     "status": "completed"
    },
    "tags": []
   },
   "outputs": [
    {
     "data": {
      "text/html": [
       "<div>\n",
       "<style scoped>\n",
       "    .dataframe tbody tr th:only-of-type {\n",
       "        vertical-align: middle;\n",
       "    }\n",
       "\n",
       "    .dataframe tbody tr th {\n",
       "        vertical-align: top;\n",
       "    }\n",
       "\n",
       "    .dataframe thead th {\n",
       "        text-align: right;\n",
       "    }\n",
       "</style>\n",
       "<table border=\"1\" class=\"dataframe\">\n",
       "  <thead>\n",
       "    <tr style=\"text-align: right;\">\n",
       "      <th></th>\n",
       "      <th>char</th>\n",
       "      <th>level</th>\n",
       "      <th>race</th>\n",
       "      <th>charclass</th>\n",
       "      <th>zone</th>\n",
       "      <th>guild</th>\n",
       "      <th>timestamp</th>\n",
       "    </tr>\n",
       "  </thead>\n",
       "  <tbody>\n",
       "    <tr>\n",
       "      <th>0</th>\n",
       "      <td>59425</td>\n",
       "      <td>1</td>\n",
       "      <td>Orc</td>\n",
       "      <td>Rogue</td>\n",
       "      <td>Orgrimmar</td>\n",
       "      <td>165</td>\n",
       "      <td>01/01/08 00:02:04</td>\n",
       "    </tr>\n",
       "    <tr>\n",
       "      <th>1</th>\n",
       "      <td>65494</td>\n",
       "      <td>9</td>\n",
       "      <td>Orc</td>\n",
       "      <td>Hunter</td>\n",
       "      <td>Durotar</td>\n",
       "      <td>-1</td>\n",
       "      <td>01/01/08 00:02:04</td>\n",
       "    </tr>\n",
       "    <tr>\n",
       "      <th>2</th>\n",
       "      <td>65325</td>\n",
       "      <td>14</td>\n",
       "      <td>Orc</td>\n",
       "      <td>Warrior</td>\n",
       "      <td>Ghostlands</td>\n",
       "      <td>-1</td>\n",
       "      <td>01/01/08 00:02:04</td>\n",
       "    </tr>\n",
       "    <tr>\n",
       "      <th>3</th>\n",
       "      <td>65490</td>\n",
       "      <td>18</td>\n",
       "      <td>Orc</td>\n",
       "      <td>Hunter</td>\n",
       "      <td>Ghostlands</td>\n",
       "      <td>-1</td>\n",
       "      <td>01/01/08 00:02:04</td>\n",
       "    </tr>\n",
       "    <tr>\n",
       "      <th>4</th>\n",
       "      <td>2288</td>\n",
       "      <td>60</td>\n",
       "      <td>Orc</td>\n",
       "      <td>Hunter</td>\n",
       "      <td>Hellfire Peninsula</td>\n",
       "      <td>-1</td>\n",
       "      <td>01/01/08 00:02:09</td>\n",
       "    </tr>\n",
       "  </tbody>\n",
       "</table>\n",
       "</div>"
      ],
      "text/plain": [
       "    char   level  race  charclass                zone   guild  \\\n",
       "0  59425       1   Orc      Rogue           Orgrimmar     165   \n",
       "1  65494       9   Orc     Hunter             Durotar      -1   \n",
       "2  65325      14   Orc    Warrior          Ghostlands      -1   \n",
       "3  65490      18   Orc     Hunter          Ghostlands      -1   \n",
       "4   2288      60   Orc     Hunter  Hellfire Peninsula      -1   \n",
       "\n",
       "           timestamp  \n",
       "0  01/01/08 00:02:04  \n",
       "1  01/01/08 00:02:04  \n",
       "2  01/01/08 00:02:04  \n",
       "3  01/01/08 00:02:04  \n",
       "4  01/01/08 00:02:09  "
      ]
     },
     "execution_count": 6,
     "metadata": {},
     "output_type": "execute_result"
    }
   ],
   "source": [
    "#First fields of the dataframe\n",
    "df.head()"
   ]
  },
  {
   "cell_type": "code",
   "execution_count": 7,
   "id": "e664b8c8",
   "metadata": {
    "execution": {
     "iopub.execute_input": "2024-06-27T15:52:54.900610Z",
     "iopub.status.busy": "2024-06-27T15:52:54.900206Z",
     "iopub.status.idle": "2024-06-27T15:52:54.912984Z",
     "shell.execute_reply": "2024-06-27T15:52:54.911997Z"
    },
    "id": "vUGplAK8t5hA",
    "outputId": "413f165d-ec72-4690-ff78-2a19114137f4",
    "papermill": {
     "duration": 0.023789,
     "end_time": "2024-06-27T15:52:54.915205",
     "exception": false,
     "start_time": "2024-06-27T15:52:54.891416",
     "status": "completed"
    },
    "tags": []
   },
   "outputs": [
    {
     "data": {
      "text/html": [
       "<div>\n",
       "<style scoped>\n",
       "    .dataframe tbody tr th:only-of-type {\n",
       "        vertical-align: middle;\n",
       "    }\n",
       "\n",
       "    .dataframe tbody tr th {\n",
       "        vertical-align: top;\n",
       "    }\n",
       "\n",
       "    .dataframe thead th {\n",
       "        text-align: right;\n",
       "    }\n",
       "</style>\n",
       "<table border=\"1\" class=\"dataframe\">\n",
       "  <thead>\n",
       "    <tr style=\"text-align: right;\">\n",
       "      <th></th>\n",
       "      <th>char</th>\n",
       "      <th>level</th>\n",
       "      <th>race</th>\n",
       "      <th>charclass</th>\n",
       "      <th>zone</th>\n",
       "      <th>guild</th>\n",
       "      <th>timestamp</th>\n",
       "    </tr>\n",
       "  </thead>\n",
       "  <tbody>\n",
       "    <tr>\n",
       "      <th>10826729</th>\n",
       "      <td>86766</td>\n",
       "      <td>80</td>\n",
       "      <td>Blood Elf</td>\n",
       "      <td>Death Knight</td>\n",
       "      <td>Halls of Lightning</td>\n",
       "      <td>101</td>\n",
       "      <td>12/31/08 23:50:18</td>\n",
       "    </tr>\n",
       "    <tr>\n",
       "      <th>10826730</th>\n",
       "      <td>86497</td>\n",
       "      <td>77</td>\n",
       "      <td>Blood Elf</td>\n",
       "      <td>Death Knight</td>\n",
       "      <td>The Storm Peaks</td>\n",
       "      <td>358</td>\n",
       "      <td>12/31/08 23:50:18</td>\n",
       "    </tr>\n",
       "    <tr>\n",
       "      <th>10826731</th>\n",
       "      <td>34893</td>\n",
       "      <td>80</td>\n",
       "      <td>Blood Elf</td>\n",
       "      <td>Death Knight</td>\n",
       "      <td>The Storm Peaks</td>\n",
       "      <td>189</td>\n",
       "      <td>12/31/08 23:50:18</td>\n",
       "    </tr>\n",
       "    <tr>\n",
       "      <th>10826732</th>\n",
       "      <td>86881</td>\n",
       "      <td>80</td>\n",
       "      <td>Blood Elf</td>\n",
       "      <td>Death Knight</td>\n",
       "      <td>Dragonblight</td>\n",
       "      <td>478</td>\n",
       "      <td>12/31/08 23:50:18</td>\n",
       "    </tr>\n",
       "    <tr>\n",
       "      <th>10826733</th>\n",
       "      <td>86457</td>\n",
       "      <td>80</td>\n",
       "      <td>Blood Elf</td>\n",
       "      <td>Death Knight</td>\n",
       "      <td>Dragonblight</td>\n",
       "      <td>204</td>\n",
       "      <td>12/31/08 23:50:18</td>\n",
       "    </tr>\n",
       "  </tbody>\n",
       "</table>\n",
       "</div>"
      ],
      "text/plain": [
       "           char   level       race     charclass                zone   guild  \\\n",
       "10826729  86766      80  Blood Elf  Death Knight  Halls of Lightning     101   \n",
       "10826730  86497      77  Blood Elf  Death Knight     The Storm Peaks     358   \n",
       "10826731  34893      80  Blood Elf  Death Knight     The Storm Peaks     189   \n",
       "10826732  86881      80  Blood Elf  Death Knight        Dragonblight     478   \n",
       "10826733  86457      80  Blood Elf  Death Knight        Dragonblight     204   \n",
       "\n",
       "                  timestamp  \n",
       "10826729  12/31/08 23:50:18  \n",
       "10826730  12/31/08 23:50:18  \n",
       "10826731  12/31/08 23:50:18  \n",
       "10826732  12/31/08 23:50:18  \n",
       "10826733  12/31/08 23:50:18  "
      ]
     },
     "execution_count": 7,
     "metadata": {},
     "output_type": "execute_result"
    }
   ],
   "source": [
    "#Last fields of the dataframe\n",
    "df.tail()"
   ]
  },
  {
   "cell_type": "code",
   "execution_count": 8,
   "id": "47d8d290",
   "metadata": {
    "execution": {
     "iopub.execute_input": "2024-06-27T15:52:54.931883Z",
     "iopub.status.busy": "2024-06-27T15:52:54.931512Z",
     "iopub.status.idle": "2024-06-27T15:52:56.914961Z",
     "shell.execute_reply": "2024-06-27T15:52:56.913741Z"
    },
    "id": "UoCS0RcoumnH",
    "outputId": "d61cb764-7c89-4a4c-e42e-cc64a95e94e4",
    "papermill": {
     "duration": 1.994535,
     "end_time": "2024-06-27T15:52:56.917256",
     "exception": false,
     "start_time": "2024-06-27T15:52:54.922721",
     "status": "completed"
    },
    "tags": []
   },
   "outputs": [
    {
     "data": {
      "text/plain": [
       "char          0\n",
       " level        0\n",
       " race         0\n",
       " charclass    0\n",
       " zone         0\n",
       " guild        0\n",
       " timestamp    0\n",
       "dtype: int64"
      ]
     },
     "execution_count": 8,
     "metadata": {},
     "output_type": "execute_result"
    }
   ],
   "source": [
    "# Identify if there are null values in the DataFrame.\n",
    "df.isnull().sum()"
   ]
  },
  {
   "cell_type": "code",
   "execution_count": 9,
   "id": "bfe66c59",
   "metadata": {
    "execution": {
     "iopub.execute_input": "2024-06-27T15:52:56.935131Z",
     "iopub.status.busy": "2024-06-27T15:52:56.934170Z",
     "iopub.status.idle": "2024-06-27T15:53:01.903176Z",
     "shell.execute_reply": "2024-06-27T15:53:01.901881Z"
    },
    "id": "PTPks31e0GUm",
    "outputId": "6407ceb8-72ee-4e5f-8793-9a57afc01318",
    "papermill": {
     "duration": 4.980758,
     "end_time": "2024-06-27T15:53:01.905699",
     "exception": false,
     "start_time": "2024-06-27T15:52:56.924941",
     "status": "completed"
    },
    "tags": []
   },
   "outputs": [
    {
     "name": "stdout",
     "output_type": "stream",
     "text": [
      "char          0\n",
      " level        0\n",
      " race         0\n",
      " charclass    0\n",
      " zone         0\n",
      " guild        0\n",
      " timestamp    0\n",
      "dtype: int64\n"
     ]
    }
   ],
   "source": [
    "# Remove rows with null values only in the columns 'race', 'charclass', 'zone', 'guild', 'timestamp'\n",
    "df = df.dropna(subset=[' race', ' charclass', ' zone', ' guild', ' timestamp'])\n",
    "\n",
    "# Verify null values again\n",
    "print(df.isnull().sum())\n"
   ]
  },
  {
   "cell_type": "markdown",
   "id": "a882b0c4",
   "metadata": {
    "id": "m0m_JgCstgWh",
    "papermill": {
     "duration": 0.007477,
     "end_time": "2024-06-27T15:53:01.920890",
     "exception": false,
     "start_time": "2024-06-27T15:53:01.913413",
     "status": "completed"
    },
    "tags": []
   },
   "source": [
    "# **Development of Point 4**\n",
    "Create at least two visualizations that help understand the data from the selected dataset. \n",
    "\n",
    "Use appropriate charts for the types of data involved (e.g., histograms, scatter plots, etc.)."
   ]
  },
  {
   "cell_type": "code",
   "execution_count": 10,
   "id": "1cc1ea27",
   "metadata": {
    "execution": {
     "iopub.execute_input": "2024-06-27T15:53:01.937816Z",
     "iopub.status.busy": "2024-06-27T15:53:01.937390Z",
     "iopub.status.idle": "2024-06-27T15:53:01.942457Z",
     "shell.execute_reply": "2024-06-27T15:53:01.941369Z"
    },
    "id": "BhJAeMPGyfIA",
    "papermill": {
     "duration": 0.016229,
     "end_time": "2024-06-27T15:53:01.944705",
     "exception": false,
     "start_time": "2024-06-27T15:53:01.928476",
     "status": "completed"
    },
    "tags": []
   },
   "outputs": [],
   "source": [
    "import matplotlib.pyplot as plt"
   ]
  },
  {
   "cell_type": "code",
   "execution_count": 11,
   "id": "3aeb72b2",
   "metadata": {
    "execution": {
     "iopub.execute_input": "2024-06-27T15:53:01.961892Z",
     "iopub.status.busy": "2024-06-27T15:53:01.961506Z",
     "iopub.status.idle": "2024-06-27T15:53:05.660864Z",
     "shell.execute_reply": "2024-06-27T15:53:05.659706Z"
    },
    "id": "OS8BKq2zxH31",
    "outputId": "6004c752-e67b-455a-fbea-c83c4292a137",
    "papermill": {
     "duration": 3.710795,
     "end_time": "2024-06-27T15:53:05.663254",
     "exception": false,
     "start_time": "2024-06-27T15:53:01.952459",
     "status": "completed"
    },
    "tags": []
   },
   "outputs": [
    {
     "data": {
      "image/png": "[encoded data removed]",
      "text/plain": [
       "<Figure size 640x480 with 1 Axes>"
      ]
     },
     "metadata": {},
     "output_type": "display_data"
    }
   ],
   "source": [
    "# Visualization 1 - Race Distribution Histogram\n",
    "\n",
    "plt.hist(df[' race'])\n",
    "plt.xlabel('Races')\n",
    "plt.ylabel('Frequency')\n",
    "plt.title('Race Distribution Histogram')\n",
    "plt.show()\n"
   ]
  },
  {
   "cell_type": "code",
   "execution_count": 12,
   "id": "bad740f4",
   "metadata": {
    "execution": {
     "iopub.execute_input": "2024-06-27T15:53:05.681331Z",
     "iopub.status.busy": "2024-06-27T15:53:05.680904Z",
     "iopub.status.idle": "2024-06-27T15:53:06.657891Z",
     "shell.execute_reply": "2024-06-27T15:53:06.656775Z"
    },
    "id": "I1x0FXDTxUuh",
    "outputId": "c1d3d6d8-47d1-465c-848f-a739c0637df9",
    "papermill": {
     "duration": 0.988919,
     "end_time": "2024-06-27T15:53:06.660460",
     "exception": false,
     "start_time": "2024-06-27T15:53:05.671541",
     "status": "completed"
    },
    "tags": []
   },
   "outputs": [
    {
     "data": {
      "image/png": "[encoded data removed]",
      "text/plain": [
       "<Figure size 640x480 with 1 Axes>"
      ]
     },
     "metadata": {},
     "output_type": "display_data"
    }
   ],
   "source": [
    "# Visualization 2 - Pie Chart of Most Played Class by Players\n",
    "\n",
    "class_counts = df[' charclass'].value_counts()\n",
    "\n",
    "plt.pie(class_counts, labels=class_counts.index, autopct='%1.1f%%', startangle=140)\n",
    "\n",
    "plt.title('Class Distribution')\n",
    "plt.axis('equal')\n",
    "\n",
    "plt.show()\n"
   ]
  },
  {
   "cell_type": "code",
   "execution_count": 13,
   "id": "d19f5640",
   "metadata": {
    "execution": {
     "iopub.execute_input": "2024-06-27T15:53:06.680199Z",
     "iopub.status.busy": "2024-06-27T15:53:06.679820Z",
     "iopub.status.idle": "2024-06-27T15:53:07.772897Z",
     "shell.execute_reply": "2024-06-27T15:53:07.771806Z"
    },
    "id": "wGXuqZs0yJu5",
    "outputId": "0ff315d3-28cc-491a-bc88-8c2fc711288f",
    "papermill": {
     "duration": 1.105812,
     "end_time": "2024-06-27T15:53:07.775381",
     "exception": false,
     "start_time": "2024-06-27T15:53:06.669569",
     "status": "completed"
    },
    "tags": []
   },
   "outputs": [
    {
     "data": {
      "image/png": "[encoded data removed]",
      "text/plain": [
       "<Figure size 1000x800 with 1 Axes>"
      ]
     },
     "metadata": {},
     "output_type": "display_data"
    }
   ],
   "source": [
    "# Visualization 3 - Bar Chart, Top 10 Zones Where Players Most Frequent\n",
    "\n",
    "zone_counts = df[' zone'].value_counts()\n",
    "top_zones = zone_counts.head(10)\n",
    "plt.figure(figsize=(10, 8))\n",
    "plt.barh(top_zones.index, top_zones.values, color='skyblue', label='Top 10 Zones')\n",
    "plt.title('Player Density by Zone in WoW - Top 10 Most Frequented Zones')\n",
    "plt.xlabel('Number of Players')\n",
    "plt.ylabel('Zone')\n",
    "plt.show()\n",
    "\n",
    "\n"
   ]
  },
  {
   "cell_type": "code",
   "execution_count": 14,
   "id": "79855d12",
   "metadata": {
    "execution": {
     "iopub.execute_input": "2024-06-27T15:53:07.797399Z",
     "iopub.status.busy": "2024-06-27T15:53:07.796273Z",
     "iopub.status.idle": "2024-06-27T15:53:08.905674Z",
     "shell.execute_reply": "2024-06-27T15:53:08.904573Z"
    },
    "id": "A-2kpnWE9eG5",
    "outputId": "4fa8e0c5-7d92-440e-b704-64e1c4735f95",
    "papermill": {
     "duration": 1.122778,
     "end_time": "2024-06-27T15:53:08.907899",
     "exception": false,
     "start_time": "2024-06-27T15:53:07.785121",
     "status": "completed"
    },
    "tags": []
   },
   "outputs": [
    {
     "name": "stderr",
     "output_type": "stream",
     "text": [
      "/opt/conda/lib/python3.10/site-packages/IPython/core/pylabtools.py:152: UserWarning: Glyph 31478 (\\N{CJK UNIFIED IDEOGRAPH-7AF6}) missing from current font.\n",
      "  fig.canvas.print_figure(bytes_io, **kw)\n",
      "/opt/conda/lib/python3.10/site-packages/IPython/core/pylabtools.py:152: UserWarning: Glyph 25216 (\\N{CJK UNIFIED IDEOGRAPH-6280}) missing from current font.\n",
      "  fig.canvas.print_figure(bytes_io, **kw)\n",
      "/opt/conda/lib/python3.10/site-packages/IPython/core/pylabtools.py:152: UserWarning: Glyph 22580 (\\N{CJK UNIFIED IDEOGRAPH-5834}) missing from current font.\n",
      "  fig.canvas.print_figure(bytes_io, **kw)\n"
     ]
    },
    {
     "data": {
      "image/png": "[encoded data removed]",
      "text/plain": [
       "<Figure size 1000x800 with 1 Axes>"
      ]
     },
     "metadata": {},
     "output_type": "display_data"
    }
   ],
   "source": [
    "# Visualization 4 - Bar Chart, Top 10 Zones Where Players Least Frequent\n",
    "\n",
    "zone_counts = df[' zone'].value_counts()\n",
    "top_zones = zone_counts.tail(10)\n",
    "plt.figure(figsize=(10, 8))\n",
    "plt.barh(top_zones.index, top_zones.values, color='skyblue', label='Top 10 Zones')\n",
    "plt.title('Player Density by Zone in WoW - Top 10 Least Frequented Zones')\n",
    "plt.xlabel('Number of Players')\n",
    "plt.ylabel('Zone')\n",
    "plt.show()\n"
   ]
  },
  {
   "cell_type": "markdown",
   "id": "420a9073",
   "metadata": {
    "papermill": {
     "duration": 0.010088,
     "end_time": "2024-06-27T15:53:08.928358",
     "exception": false,
     "start_time": "2024-06-27T15:53:08.918270",
     "status": "completed"
    },
    "tags": []
   },
   "source": [
    "---"
   ]
  },
  {
   "cell_type": "markdown",
   "id": "f4cc4ad3",
   "metadata": {
    "id": "cPpyDy4JyJTt",
    "papermill": {
     "duration": 0.010099,
     "end_time": "2024-06-27T15:53:08.948994",
     "exception": false,
     "start_time": "2024-06-27T15:53:08.938895",
     "status": "completed"
    },
    "tags": []
   },
   "source": [
    "# **Development of Point 5**\n",
    "\n",
    "\n",
    "\n",
    "\n",
    "\n",
    "\n",
    "\n"
   ]
  },
  {
   "cell_type": "markdown",
   "id": "9a09942a",
   "metadata": {
    "id": "Z018lpLgHMKf",
    "papermill": {
     "duration": 0.010183,
     "end_time": "2024-06-27T15:53:08.969466",
     "exception": false,
     "start_time": "2024-06-27T15:53:08.959283",
     "status": "completed"
    },
    "tags": []
   },
   "source": [
    "1. **Based on your domain knowledge and the results from data exploration and visualization, make a hypothesis about the possible relationships between the variables in the dataset.**\n",
    "\n",
    "Hypothesis:\n",
    "\n",
    "- There are primarily relationships centered around why a particular race is more commonly used depending on the class. This is because, in the context of the game, there is a limitation where not all races can be all classes, or some races have greater benefits for the class they play.\n",
    "\n",
    "- Another association could exist between the Zone and the player's level. This is because, in the game, for a player to progress or be limited in their development, they must start in low-level zones and progress to more advanced zones. It could also be due to zones with higher social interaction (Capitals) or zones that are less friendly to the player because they are controlled by the enemy.\n",
    "\n",
    "- Finally, another relationship could reside between the Zone and the Guild variable. This is because guilds form a key element in the game, as they usually gather in specific areas to conduct various activities, both social and interactive (dungeons, raids, PVP, PVE, open-world content, etc.)."
   ]
  },
  {
   "cell_type": "markdown",
   "id": "681b275c",
   "metadata": {
    "id": "Hqqskro2HH9G",
    "papermill": {
     "duration": 0.010353,
     "end_time": "2024-06-27T15:53:08.990078",
     "exception": false,
     "start_time": "2024-06-27T15:53:08.979725",
     "status": "completed"
    },
    "tags": []
   },
   "source": [
    "2. **Formulate at least one research question that you could attempt to answer using this dataset.**\n",
    "\n",
    "Research Question: \n",
    "\n",
    "- Which race/class combination is most commonly used for maximum level content in the dataset?\n",
    "\n"
   ]
  },
  {
   "cell_type": "markdown",
   "id": "9aa0d3e0",
   "metadata": {
    "id": "Sq5mWG4nHFAP",
    "papermill": {
     "duration": 0.009992,
     "end_time": "2024-06-27T15:53:09.010504",
     "exception": false,
     "start_time": "2024-06-27T15:53:09.000512",
     "status": "completed"
    },
    "tags": []
   },
   "source": [
    "3. **Choose a variable as the target (predictor) variable and the necessary variables as features (predictors).**\n",
    "\n",
    "Response:\n",
    "\n",
    "- Target Variable: Level\n",
    "\n",
    "- Necessary Variables: Combination, Class"
   ]
  },
  {
   "cell_type": "markdown",
   "id": "40244a21",
   "metadata": {
    "id": "z-8kmbXQHB9X",
    "papermill": {
     "duration": 0.010194,
     "end_time": "2024-06-27T15:53:09.031089",
     "exception": false,
     "start_time": "2024-06-27T15:53:09.020895",
     "status": "completed"
    },
    "tags": []
   },
   "source": [
    "\n",
    "4. **Explain why you selected each variable and how they might be related to each other.**\n",
    "\n",
    "Response:\n",
    "\n",
    "- In relation to the research question, the target variable is the level because it is established as the maximum level. The predictor variables are the race and class of the players, as there are various combinations. However, what will help answer the question is the repetition of patterns that predominantly occur at the maximum level. This implies that certain race/class combinations are preferred or more effective, leading players to choose them more frequently when reaching the highest level."
   ]
  }
 ],
 "metadata": {
  "colab": {
   "provenance": []
  },
  "kaggle": {
   "accelerator": "none",
   "dataSources": [
    {
     "datasetId": 42,
     "sourceId": 799955,
     "sourceType": "datasetVersion"
    }
   ],
   "dockerImageVersionId": 30732,
   "isGpuEnabled": false,
   "isInternetEnabled": true,
   "language": "python",
   "sourceType": "notebook"
  },
  "kernelspec": {
   "display_name": "Python 3",
   "language": "python",
   "name": "python3"
  },
  "language_info": {
   "codemirror_mode": {
    "name": "ipython",
    "version": 3
   },
   "file_extension": ".py",
   "mimetype": "text/x-python",
   "name": "python",
   "nbconvert_exporter": "python",
   "pygments_lexer": "ipython3",
   "version": "3.10.13"
  },
  "papermill": {
   "default_parameters": {},
   "duration": 38.199194,
   "end_time": "2024-06-27T15:53:09.964650",
   "environment_variables": {},
   "exception": null,
   "input_path": "__notebook__.ipynb",
   "output_path": "__notebook__.ipynb",
   "parameters": {},
   "start_time": "2024-06-27T15:52:31.765456",
   "version": "2.5.0"
  }
 },
 "nbformat": 4,
 "nbformat_minor": 5
}
